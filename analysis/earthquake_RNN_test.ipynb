{
 "cells": [
  {
   "cell_type": "code",
   "execution_count": 1,
   "metadata": {
    "nbgrader": {
     "grade": false,
     "grade_id": "cell-aaad388f467a51c0",
     "locked": false,
     "schema_version": 3,
     "solution": false
    }
   },
   "outputs": [
    {
     "name": "stderr",
     "output_type": "stream",
     "text": [
      "/Users/imac/Library/Python/3.9/lib/python/site-packages/urllib3/__init__.py:35: NotOpenSSLWarning: urllib3 v2 only supports OpenSSL 1.1.1+, currently the 'ssl' module is compiled with 'LibreSSL 2.8.3'. See: https://github.com/urllib3/urllib3/issues/3020\n",
      "  warnings.warn(\n"
     ]
    }
   ],
   "source": [
    "import numpy as np\n",
    "import tensorflow as tf\n",
    "import pandas as pd\n",
    "from tensorflow.keras.preprocessing import sequence\n",
    "from tensorflow.keras.layers import SimpleRNN, GRU, LSTM, Embedding, Dense\n",
    "from tensorflow.keras import Sequential\n",
    "from tensorflow.keras.datasets import imdb\n",
    "import matplotlib.pyplot as plt\n",
    "from sklearn.model_selection import train_test_split\n",
    "\n",
    "np.random.seed(0)\n",
    "tf.random.set_seed(0)"
   ]
  },
  {
   "cell_type": "code",
   "execution_count": 2,
   "metadata": {
    "nbgrader": {
     "grade": false,
     "grade_id": "cell-c5683134993794d6",
     "locked": false,
     "schema_version": 3,
     "solution": false
    }
   },
   "outputs": [],
   "source": [
    "\n",
    "X = pd.read_csv(\"rand_mdim_sample_100_X\", index_col=False)\n",
    "y = pd.read_csv(\"rand_mdim_sample_100_y\", index_col=False)\n",
    "\n",
    "X = X.to_numpy()\n",
    "y = y.to_numpy()\n",
    "\n",
    "X_train, X_test, y_train, y_test = train_test_split(X, y, test_size=0.20, random_state=0)\n",
    "X_train = X_train[:10]\n",
    "y_train = y_train[:10]\n",
    "X_test = X_test[:4]\n",
    "y_test = y_test[:4]\n"
   ]
  },
  {
   "cell_type": "code",
   "execution_count": 3,
   "metadata": {
    "nbgrader": {
     "grade": false,
     "grade_id": "cell-2d04aa072205ee4a",
     "locked": false,
     "schema_version": 3,
     "solution": false
    }
   },
   "outputs": [
    {
     "name": "stdout",
     "output_type": "stream",
     "text": [
      "The training set has 10 samples.\n",
      "The test set has 4 samples.\n"
     ]
    }
   ],
   "source": [
    "\n",
    "print(f'The training set has {len(X_train)} samples.')\n",
    "print(f'The test set has {len(X_test)} samples.')"
   ]
  },
  {
   "cell_type": "code",
   "execution_count": 4,
   "metadata": {
    "nbgrader": {
     "grade": false,
     "grade_id": "cell-26b3b6b877561751",
     "locked": false,
     "schema_version": 3,
     "solution": false
    }
   },
   "outputs": [
    {
     "name": "stdout",
     "output_type": "stream",
     "text": [
      "(10, 150000)\n",
      "(4, 150000)\n"
     ]
    }
   ],
   "source": [
    "\n",
    "\n",
    "print(X_train.shape)\n",
    "print(X_test.shape)"
   ]
  },
  {
   "cell_type": "code",
   "execution_count": 5,
   "metadata": {
    "deletable": false,
    "nbgrader": {
     "cell_type": "code",
     "checksum": "316a878bee0fd96ed1fa799c8482e6db",
     "grade": false,
     "grade_id": "cell-798617aedf043516",
     "locked": false,
     "schema_version": 3,
     "solution": true
    }
   },
   "outputs": [],
   "source": [
    "## Create your LSTM RNN\n",
    "#\n",
    "# Define \"layers_lstm\", a list of Keras layers, that you will then use to create a Sequential model\n",
    "# saved as \"rnn_lstm\".\n",
    "#\n",
    "# Here you will create an RNN using an LSTM layer, again, with dropout and recurrent_dropout.\n",
    "#\n",
    "# Use an input Embedding layer and output Dense layer, as in the simple RNN and the GRU model.\n",
    "\n",
    "layers_lstm = [\n",
    "    tf.keras.layers.Embedding(150000, 128),\n",
    "    tf.keras.layers.LSTM(128, recurrent_dropout=0.1, dropout=0.1),\n",
    "    tf.keras.layers.Dense(1, activation=\"tanh\")\n",
    "    ]\n",
    "\n",
    "rnn_lstm = tf.keras.models.Sequential(layers_lstm)"
   ]
  },
  {
   "cell_type": "code",
   "execution_count": 6,
   "metadata": {
    "nbgrader": {
     "grade": false,
     "grade_id": "cell-33238b0da6c68f44",
     "locked": false,
     "schema_version": 3,
     "solution": false
    }
   },
   "outputs": [
    {
     "name": "stdout",
     "output_type": "stream",
     "text": [
      "Epoch 1/3\n",
      "\u001b[1m1/1\u001b[0m \u001b[32m━━━━━━━━━━━━━━━━━━━━\u001b[0m\u001b[37m\u001b[0m \u001b[1m731s\u001b[0m 731s/step - loss: 61.9448 - root_mean_squared_error: 7.8705 - val_loss: 13.4779 - val_root_mean_squared_error: 3.6712\n",
      "Epoch 2/3\n",
      "\u001b[1m1/1\u001b[0m \u001b[32m━━━━━━━━━━━━━━━━━━━━\u001b[0m\u001b[37m\u001b[0m \u001b[1m746s\u001b[0m 746s/step - loss: 61.1903 - root_mean_squared_error: 7.8224 - val_loss: 13.0515 - val_root_mean_squared_error: 3.6127\n",
      "Epoch 3/3\n",
      "\u001b[1m1/1\u001b[0m \u001b[32m━━━━━━━━━━━━━━━━━━━━\u001b[0m\u001b[37m\u001b[0m \u001b[1m618s\u001b[0m 618s/step - loss: 60.2756 - root_mean_squared_error: 7.7637 - val_loss: 12.5098 - val_root_mean_squared_error: 3.5369\n"
     ]
    }
   ],
   "source": [
    "\n",
    "n_epochs = 2\n",
    "\n",
    "rnn_lstm.compile(loss='mse', optimizer='adam', metrics=['root_mean_squared_error'])\n",
    "history_lstm = rnn_lstm.fit(X_train, y_train,\n",
    "                            validation_data=(X_test, y_test),\n",
    "                            batch_size=32, epochs=n_epochs)"
   ]
  },
  {
   "cell_type": "code",
   "execution_count": 7,
   "metadata": {},
   "outputs": [
    {
     "data": {
      "image/png": "[encoded data removed]",
      "text/plain": [
       "<Figure size 1400x400 with 2 Axes>"
      ]
     },
     "metadata": {},
     "output_type": "display_data"
    }
   ],
   "source": [
    "# Plot the loss and accuracy as a function of training epoch\n",
    "\n",
    "plt.figure(figsize=(14, 4))\n",
    "\n",
    "plt.subplot(1,2,1)\n",
    "plt.plot(np.arange(1, n_epochs+1), history_lstm.history['loss'], '-o', label='Train')\n",
    "plt.plot(np.arange(1, n_epochs+1), history_lstm.history['val_loss'], '-o', label='Test')\n",
    "plt.legend()\n",
    "plt.xlabel('Epoch')\n",
    "plt.ylabel('Loss')\n",
    "plt.grid(True)\n",
    "\n",
    "plt.subplot(1,2,2)\n",
    "plt.plot(np.arange(1, n_epochs+1), history_lstm.history['root_mean_squared_error'], '-o', label='Train')\n",
    "plt.plot(np.arange(1, n_epochs+1), history_lstm.history['val_root_mean_squared_error'], '-o', label='Test')\n",
    "plt.legend()\n",
    "plt.xlabel('Epoch')\n",
    "plt.ylabel('RMSE')\n",
    "plt.grid(True)"
   ]
  },
  {
   "cell_type": "code",
   "execution_count": 8,
   "metadata": {
    "deletable": false,
    "nbgrader": {
     "cell_type": "code",
     "checksum": "a6d552f16291d6329dc6e258f958421a",
     "grade": false,
     "grade_id": "cell-43b2247e569276bc",
     "locked": false,
     "schema_version": 3,
     "solution": true
    }
   },
   "outputs": [
    {
     "name": "stdout",
     "output_type": "stream",
     "text": [
      "\u001b[1m1/1\u001b[0m \u001b[32m━━━━━━━━━━━━━━━━━━━━\u001b[0m\u001b[37m\u001b[0m \u001b[1m8s\u001b[0m 8s/step - loss: 12.5098 - root_mean_squared_error: 3.5369\n"
     ]
    }
   ],
   "source": [
    "# Apply the Model.evaluate() methods of your models to the test set and save the\n",
    "# returned losses and accuracies to the corresponding variable names:\n",
    "#   loss_simple, loss_gru, loss_lstm\n",
    "#   acc_simple, acc_gru, acc_lstm\n",
    "#\n",
    "# Note that these values should be very close to the losses/accuracies in the\n",
    "# plots created above, for the final epoch.\n",
    "\n",
    "#loss_simple, acc_simple = rnn_simple.evaluate(X_test, y_test)\n",
    "#loss_gru, acc_gru = rnn_gru.evaluate(X_test, y_test)\n",
    "loss_lstm, acc_lstm = rnn_lstm.evaluate(X_test, y_test)"
   ]
  },
  {
   "cell_type": "code",
   "execution_count": 9,
   "metadata": {
    "nbgrader": {
     "grade": false,
     "grade_id": "cell-24347394026d518c",
     "locked": false,
     "schema_version": 3,
     "solution": false
    }
   },
   "outputs": [
    {
     "name": "stdout",
     "output_type": "stream",
     "text": [
      "Your LSTM model achieved an rmse of 3.537.\n"
     ]
    }
   ],
   "source": [
    "#print(f\"Your simple model achieved an rmse of {acc_simple:.4}.\")\n",
    "#print(f\"Your GRU model achieved an accuracy of {acc_gru:.2}.\")\n",
    "print(f\"Your LSTM model achieved an rmse of {acc_lstm:.4}.\")"
   ]
  },
  {
   "cell_type": "code",
   "execution_count": 11,
   "metadata": {
    "deletable": false,
    "editable": false,
    "nbgrader": {
     "cell_type": "code",
     "checksum": "f39f6185a54850c2f1f9b5b2a17b7543",
     "grade": true,
     "grade_id": "feedback-tests",
     "locked": true,
     "points": 0,
     "schema_version": 3,
     "solution": false
    }
   },
   "outputs": [],
   "source": [
    "model_json = rnn_lstm.to_json()\n",
    "with open(\"RNN_LSTM_1.json\", \"w\") as json_file:\n",
    "    json_file.write(model_json)\n",
    "rnn_lstm.save_weights(\"RNN_LSTM_1.weights.h5\")"
   ]
  }
 ],
 "metadata": {
  "kernelspec": {
   "display_name": "Python 3",
   "language": "python",
   "name": "python3"
  },
  "language_info": {
   "codemirror_mode": {
    "name": "ipython",
    "version": 3
   },
   "file_extension": ".py",
   "mimetype": "text/x-python",
   "name": "python",
   "nbconvert_exporter": "python",
   "pygments_lexer": "ipython3",
   "version": "3.9.6"
  }
 },
 "nbformat": 4,
 "nbformat_minor": 2
}
